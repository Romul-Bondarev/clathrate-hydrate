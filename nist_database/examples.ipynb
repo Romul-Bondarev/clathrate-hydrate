{
 "cells": [
  {
   "cell_type": "code",
   "execution_count": 1,
   "metadata": {},
   "outputs": [],
   "source": [
    "from _base import load_nist_data\n",
    "from _base import compounds_mask\n",
    "from _base import mole_fraction_data\n",
    "from _base import mole_ratio_data\n",
    "\n",
    "\n",
    "pd_data = load_nist_data()"
   ]
  },
  {
   "cell_type": "code",
   "execution_count": 2,
   "metadata": {},
   "outputs": [],
   "source": [
    "pd_ratio_data = mole_ratio_data(pd_data)\n",
    "columns_names = pd_ratio_data.columns.tolist()\n",
    "columns_names = [s for s in columns_names if 'x' not in s]\n",
    "pd_ratio_data = pd_ratio_data[columns_names]\n",
    "pd_ratio_data = pd_ratio_data.fillna(0)\n",
    "pd_ratio_data.to_csv('datasets\\\\mole_ratio.csv', sep=';', index=True)\n",
    "pd_ratio_data_compounds_mask = compounds_mask(pd_ratio_data)\n",
    "pd_ratio_data_compounds_mask = pd_ratio_data_compounds_mask * 1\n",
    "pd_ratio_data_compounds_mask.to_csv('datasets\\\\mole_ratio_compounds_mask.csv', sep=';', index=True)"
   ]
  },
  {
   "cell_type": "code",
   "execution_count": 3,
   "metadata": {},
   "outputs": [],
   "source": [
    "pd_fraction_data = mole_fraction_data(pd_data)\n",
    "columns_names = pd_fraction_data.columns.tolist()\n",
    "columns_names = [s for s in columns_names if '/' not in s]\n",
    "pd_fraction_data = pd_fraction_data[columns_names]\n",
    "pd_fraction_data = pd_fraction_data.drop(columns='xH2O', axis=1)\n",
    "pd_fraction_data = pd_fraction_data.drop(columns='xCO2.1', axis=1)\n",
    "pd_fraction_data = pd_fraction_data.fillna(0)\n",
    "pd_fraction_data.to_csv('datasets\\\\mole_fraction.csv', sep=';', index=True)\n",
    "pd_fraction_data_compounds_mask = compounds_mask(pd_fraction_data)\n",
    "pd_fraction_data_compounds_mask = pd_fraction_data_compounds_mask * 1\n",
    "pd_fraction_data_compounds_mask.to_csv('datasets\\\\mole_fraction_compounds_mask.csv', sep=';', index=True)"
   ]
  },
  {
   "cell_type": "code",
   "execution_count": 4,
   "metadata": {},
   "outputs": [],
   "source": [
    "pd_compounds_data = compounds_mask(pd_data)\n",
    "columns_names = pd_compounds_data.columns.tolist()\n",
    "columns_names = [s for s in columns_names if 'x' not in s]\n",
    "columns_names = [s for s in columns_names if '/' not in s]\n",
    "pd_compounds_data = pd_compounds_data[columns_names]\n",
    "pd_compounds_data = pd_compounds_data * 1\n",
    "pd_compounds_data.to_csv('datasets\\\\compounds_mask.csv', sep=';', index=True)"
   ]
  }
 ],
 "metadata": {
  "kernelspec": {
   "display_name": "Python 3",
   "language": "python",
   "name": "python3"
  },
  "language_info": {
   "codemirror_mode": {
    "name": "ipython",
    "version": 3
   },
   "file_extension": ".py",
   "mimetype": "text/x-python",
   "name": "python",
   "nbconvert_exporter": "python",
   "pygments_lexer": "ipython3",
   "version": "3.8.5"
  }
 },
 "nbformat": 4,
 "nbformat_minor": 5
}
